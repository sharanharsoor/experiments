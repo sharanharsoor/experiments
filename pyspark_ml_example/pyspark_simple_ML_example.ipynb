{
 "cells": [
  {
   "cell_type": "code",
   "execution_count": 1,
   "id": "eb54aedb-1d98-44e9-a848-b1acfc760fdf",
   "metadata": {},
   "outputs": [
    {
     "name": "stderr",
     "output_type": "stream",
     "text": [
      "Setting default log level to \"WARN\".\n",
      "To adjust logging level use sc.setLogLevel(newLevel). For SparkR, use setLogLevel(newLevel).\n"
     ]
    },
    {
     "name": "stdout",
     "output_type": "stream",
     "text": [
      "22/12/02 01:42:09 WARN NativeCodeLoader: Unable to load native-hadoop library for your platform... using builtin-java classes where applicable\n"
     ]
    }
   ],
   "source": [
    "from pyspark import SparkContext\n",
    "from pyspark.sql import SparkSession\n",
    "from pyspark.sql.types import *\n",
    "from pyspark.ml.regression import LinearRegression\n",
    "spark = SparkSession.builder.appName('logistic_reg').getOrCreate()\n"
   ]
  },
  {
   "cell_type": "markdown",
   "id": "d35be054",
   "metadata": {},
   "source": [
    "### DataFrame"
   ]
  },
  {
   "cell_type": "code",
   "execution_count": 12,
   "id": "59c9ef54-6979-456b-8110-29a73b167a5b",
   "metadata": {},
   "outputs": [],
   "source": [
    "df = spark.read.csv('./irisdata.csv', header=True, inferSchema=True)"
   ]
  },
  {
   "cell_type": "code",
   "execution_count": 13,
   "id": "52bdf62a",
   "metadata": {},
   "outputs": [
    {
     "name": "stdout",
     "output_type": "stream",
     "text": [
      "root\n",
      " |-- sepal_length: double (nullable = true)\n",
      " |-- sepal_width: double (nullable = true)\n",
      " |-- petal_length: double (nullable = true)\n",
      " |-- petal_widthCm: double (nullable = true)\n",
      " |-- species: string (nullable = true)\n",
      "\n"
     ]
    }
   ],
   "source": [
    "df.printSchema()"
   ]
  },
  {
   "cell_type": "code",
   "execution_count": 14,
   "id": "76a79a38",
   "metadata": {},
   "outputs": [
    {
     "name": "stdout",
     "output_type": "stream",
     "text": [
      "+------------+-----------+------------+-------------+-----------+\n",
      "|sepal_length|sepal_width|petal_length|petal_widthCm|    species|\n",
      "+------------+-----------+------------+-------------+-----------+\n",
      "|         5.1|        3.5|         1.4|          0.2|Iris-setosa|\n",
      "|         4.9|        3.0|         1.4|          0.2|Iris-setosa|\n",
      "|         4.7|        3.2|         1.3|          0.2|Iris-setosa|\n",
      "|         4.6|        3.1|         1.5|          0.2|Iris-setosa|\n",
      "|         5.0|        3.6|         1.4|          0.2|Iris-setosa|\n",
      "+------------+-----------+------------+-------------+-----------+\n",
      "only showing top 5 rows\n",
      "\n"
     ]
    }
   ],
   "source": [
    "df.show(5)"
   ]
  },
  {
   "cell_type": "markdown",
   "id": "530309a8",
   "metadata": {},
   "source": [
    "### Feature Transformers"
   ]
  },
  {
   "cell_type": "markdown",
   "id": "13b26304",
   "metadata": {},
   "source": [
    "#### StringIndexer"
   ]
  },
  {
   "cell_type": "code",
   "execution_count": 15,
   "id": "6ce57643",
   "metadata": {},
   "outputs": [
    {
     "name": "stdout",
     "output_type": "stream",
     "text": [
      "+------------+-----------+------------+-------------+---------------+------------+\n",
      "|sepal_length|sepal_width|petal_length|petal_widthCm|        species|speciesIndex|\n",
      "+------------+-----------+------------+-------------+---------------+------------+\n",
      "|         4.6|        3.4|         1.4|          0.3|    Iris-setosa|         0.0|\n",
      "|         4.4|        2.9|         1.4|          0.2|    Iris-setosa|         0.0|\n",
      "|         5.2|        3.4|         1.4|          0.2|    Iris-setosa|         0.0|\n",
      "|         5.0|        3.2|         1.2|          0.2|    Iris-setosa|         0.0|\n",
      "|         5.1|        3.8|         1.6|          0.2|    Iris-setosa|         0.0|\n",
      "|         6.7|        3.1|         4.4|          1.4|Iris-versicolor|         1.0|\n",
      "|         5.8|        2.7|         4.1|          1.0|Iris-versicolor|         1.0|\n",
      "|         5.4|        3.0|         4.5|          1.5|Iris-versicolor|         1.0|\n",
      "|         5.5|        2.6|         4.4|          1.2|Iris-versicolor|         1.0|\n",
      "|         4.9|        2.5|         4.5|          1.7| Iris-virginica|         2.0|\n",
      "|         6.0|        2.2|         5.0|          1.5| Iris-virginica|         2.0|\n",
      "+------------+-----------+------------+-------------+---------------+------------+\n",
      "\n"
     ]
    }
   ],
   "source": [
    "from pyspark.ml.feature import StringIndexer\n",
    "\n",
    "indexer = StringIndexer(inputCol='species', outputCol='speciesIndex')\n",
    "iris = indexer.fit(df).transform(df)\n",
    "iris.sample(fraction=0.1).show()"
   ]
  },
  {
   "cell_type": "markdown",
   "id": "dcbfb53c",
   "metadata": {},
   "source": [
    "#### OneHotEncoder"
   ]
  },
  {
   "cell_type": "code",
   "execution_count": 16,
   "id": "7ef4ad95",
   "metadata": {},
   "outputs": [
    {
     "name": "stdout",
     "output_type": "stream",
     "text": [
      "+------------+-----------+------------+-------------+-----------+------------+-------------+\n",
      "|sepal_length|sepal_width|petal_length|petal_widthCm|    species|speciesIndex|  species_vec|\n",
      "+------------+-----------+------------+-------------+-----------+------------+-------------+\n",
      "|         5.1|        3.5|         1.4|          0.2|Iris-setosa|         0.0|(2,[0],[1.0])|\n",
      "|         4.9|        3.0|         1.4|          0.2|Iris-setosa|         0.0|(2,[0],[1.0])|\n",
      "|         4.7|        3.2|         1.3|          0.2|Iris-setosa|         0.0|(2,[0],[1.0])|\n",
      "|         4.6|        3.1|         1.5|          0.2|Iris-setosa|         0.0|(2,[0],[1.0])|\n",
      "|         5.0|        3.6|         1.4|          0.2|Iris-setosa|         0.0|(2,[0],[1.0])|\n",
      "|         5.4|        3.9|         1.7|          0.4|Iris-setosa|         0.0|(2,[0],[1.0])|\n",
      "|         4.6|        3.4|         1.4|          0.3|Iris-setosa|         0.0|(2,[0],[1.0])|\n",
      "|         5.0|        3.4|         1.5|          0.2|Iris-setosa|         0.0|(2,[0],[1.0])|\n",
      "|         4.4|        2.9|         1.4|          0.2|Iris-setosa|         0.0|(2,[0],[1.0])|\n",
      "|         4.9|        3.1|         1.5|          0.1|Iris-setosa|         0.0|(2,[0],[1.0])|\n",
      "|         5.4|        3.7|         1.5|          0.2|Iris-setosa|         0.0|(2,[0],[1.0])|\n",
      "|         4.8|        3.4|         1.6|          0.2|Iris-setosa|         0.0|(2,[0],[1.0])|\n",
      "|         4.8|        3.0|         1.4|          0.1|Iris-setosa|         0.0|(2,[0],[1.0])|\n",
      "|         4.3|        3.0|         1.1|          0.1|Iris-setosa|         0.0|(2,[0],[1.0])|\n",
      "|         5.8|        4.0|         1.2|          0.2|Iris-setosa|         0.0|(2,[0],[1.0])|\n",
      "|         5.7|        4.4|         1.5|          0.4|Iris-setosa|         0.0|(2,[0],[1.0])|\n",
      "|         5.4|        3.9|         1.3|          0.4|Iris-setosa|         0.0|(2,[0],[1.0])|\n",
      "|         5.1|        3.5|         1.4|          0.3|Iris-setosa|         0.0|(2,[0],[1.0])|\n",
      "|         5.7|        3.8|         1.7|          0.3|Iris-setosa|         0.0|(2,[0],[1.0])|\n",
      "|         5.1|        3.8|         1.5|          0.3|Iris-setosa|         0.0|(2,[0],[1.0])|\n",
      "+------------+-----------+------------+-------------+-----------+------------+-------------+\n",
      "only showing top 20 rows\n",
      "\n"
     ]
    }
   ],
   "source": [
    "from pyspark.ml.feature import OneHotEncoder\n",
    "\n",
    "encoded = OneHotEncoder(inputCol=\"speciesIndex\", outputCol=\"species_vec\")\n",
    "new_df = encoded.fit(iris).transform(iris)\n",
    "new_df.show()"
   ]
  },
  {
   "cell_type": "markdown",
   "id": "c90193ef",
   "metadata": {},
   "source": [
    "### Vector Assembler"
   ]
  },
  {
   "cell_type": "code",
   "execution_count": 17,
   "id": "92a1d1c3",
   "metadata": {},
   "outputs": [
    {
     "name": "stdout",
     "output_type": "stream",
     "text": [
      "+------------+-----------+------------+-------------+-----------+------------+-------------+-----------------+\n",
      "|sepal_length|sepal_width|petal_length|petal_widthCm|    species|speciesIndex|  species_vec|         features|\n",
      "+------------+-----------+------------+-------------+-----------+------------+-------------+-----------------+\n",
      "|         5.1|        3.5|         1.4|          0.2|Iris-setosa|         0.0|(2,[0],[1.0])|[5.1,3.5,1.4,0.2]|\n",
      "|         4.9|        3.0|         1.4|          0.2|Iris-setosa|         0.0|(2,[0],[1.0])|[4.9,3.0,1.4,0.2]|\n",
      "|         4.7|        3.2|         1.3|          0.2|Iris-setosa|         0.0|(2,[0],[1.0])|[4.7,3.2,1.3,0.2]|\n",
      "|         4.6|        3.1|         1.5|          0.2|Iris-setosa|         0.0|(2,[0],[1.0])|[4.6,3.1,1.5,0.2]|\n",
      "|         5.0|        3.6|         1.4|          0.2|Iris-setosa|         0.0|(2,[0],[1.0])|[5.0,3.6,1.4,0.2]|\n",
      "|         5.4|        3.9|         1.7|          0.4|Iris-setosa|         0.0|(2,[0],[1.0])|[5.4,3.9,1.7,0.4]|\n",
      "|         4.6|        3.4|         1.4|          0.3|Iris-setosa|         0.0|(2,[0],[1.0])|[4.6,3.4,1.4,0.3]|\n",
      "|         5.0|        3.4|         1.5|          0.2|Iris-setosa|         0.0|(2,[0],[1.0])|[5.0,3.4,1.5,0.2]|\n",
      "|         4.4|        2.9|         1.4|          0.2|Iris-setosa|         0.0|(2,[0],[1.0])|[4.4,2.9,1.4,0.2]|\n",
      "|         4.9|        3.1|         1.5|          0.1|Iris-setosa|         0.0|(2,[0],[1.0])|[4.9,3.1,1.5,0.1]|\n",
      "|         5.4|        3.7|         1.5|          0.2|Iris-setosa|         0.0|(2,[0],[1.0])|[5.4,3.7,1.5,0.2]|\n",
      "|         4.8|        3.4|         1.6|          0.2|Iris-setosa|         0.0|(2,[0],[1.0])|[4.8,3.4,1.6,0.2]|\n",
      "|         4.8|        3.0|         1.4|          0.1|Iris-setosa|         0.0|(2,[0],[1.0])|[4.8,3.0,1.4,0.1]|\n",
      "|         4.3|        3.0|         1.1|          0.1|Iris-setosa|         0.0|(2,[0],[1.0])|[4.3,3.0,1.1,0.1]|\n",
      "|         5.8|        4.0|         1.2|          0.2|Iris-setosa|         0.0|(2,[0],[1.0])|[5.8,4.0,1.2,0.2]|\n",
      "|         5.7|        4.4|         1.5|          0.4|Iris-setosa|         0.0|(2,[0],[1.0])|[5.7,4.4,1.5,0.4]|\n",
      "|         5.4|        3.9|         1.3|          0.4|Iris-setosa|         0.0|(2,[0],[1.0])|[5.4,3.9,1.3,0.4]|\n",
      "|         5.1|        3.5|         1.4|          0.3|Iris-setosa|         0.0|(2,[0],[1.0])|[5.1,3.5,1.4,0.3]|\n",
      "|         5.7|        3.8|         1.7|          0.3|Iris-setosa|         0.0|(2,[0],[1.0])|[5.7,3.8,1.7,0.3]|\n",
      "|         5.1|        3.8|         1.5|          0.3|Iris-setosa|         0.0|(2,[0],[1.0])|[5.1,3.8,1.5,0.3]|\n",
      "+------------+-----------+------------+-------------+-----------+------------+-------------+-----------------+\n",
      "only showing top 20 rows\n",
      "\n"
     ]
    }
   ],
   "source": [
    "from pyspark.ml.feature import VectorAssembler\n",
    "\n",
    "assembler = VectorAssembler(\n",
    "    inputCols=[\"sepal_length\", \"sepal_width\", \"petal_length\", \"petal_widthCm\"], \n",
    "    outputCol=\"features\")\n",
    "\n",
    "dataset = assembler.transform(new_df)\n",
    "dataset.show()"
   ]
  },
  {
   "cell_type": "code",
   "execution_count": 18,
   "id": "5533ee2e",
   "metadata": {},
   "outputs": [
    {
     "name": "stdout",
     "output_type": "stream",
     "text": [
      "root\n",
      " |-- sepal_length: double (nullable = true)\n",
      " |-- sepal_width: double (nullable = true)\n",
      " |-- petal_length: double (nullable = true)\n",
      " |-- petal_widthCm: double (nullable = true)\n",
      " |-- species: string (nullable = true)\n",
      " |-- speciesIndex: double (nullable = false)\n",
      " |-- species_vec: vector (nullable = true)\n",
      " |-- features: vector (nullable = true)\n",
      "\n"
     ]
    }
   ],
   "source": [
    "dataset.printSchema()"
   ]
  },
  {
   "cell_type": "markdown",
   "id": "0f838b46",
   "metadata": {},
   "source": [
    "### Estimator"
   ]
  },
  {
   "cell_type": "code",
   "execution_count": 20,
   "id": "d4598ec2",
   "metadata": {},
   "outputs": [],
   "source": [
    "from pyspark.ml.classification import LogisticRegression\n",
    "\n",
    "lr = LogisticRegression(featuresCol='features', labelCol='speciesIndex')\n",
    "trainData, testData = dataset.randomSplit([0.7, 0.3])\n"
   ]
  },
  {
   "cell_type": "code",
   "execution_count": 21,
   "id": "ebe74e9c",
   "metadata": {},
   "outputs": [
    {
     "name": "stdout",
     "output_type": "stream",
     "text": [
      "22/12/02 01:47:52 WARN InstanceBuilder$JavaBLAS: Failed to load implementation from:dev.ludovic.netlib.blas.VectorBLAS\n",
      "22/12/02 01:47:53 WARN InstanceBuilder$NativeBLAS: Failed to load implementation from:dev.ludovic.netlib.blas.JNIBLAS\n",
      "22/12/02 01:47:53 WARN InstanceBuilder$NativeBLAS: Failed to load implementation from:dev.ludovic.netlib.blas.ForeignLinkerBLAS\n"
     ]
    },
    {
     "name": "stderr",
     "output_type": "stream",
     "text": [
      "\r",
      "[Stage 19:>                                                         (0 + 1) / 1]\r",
      "\r",
      "                                                                                \r"
     ]
    }
   ],
   "source": [
    "model = lr.fit(trainData)\n",
    "summary = model.evaluate(testData)"
   ]
  },
  {
   "cell_type": "markdown",
   "id": "31f7c127",
   "metadata": {},
   "source": [
    "### Evaluator"
   ]
  },
  {
   "cell_type": "code",
   "execution_count": 22,
   "id": "cad1f085",
   "metadata": {},
   "outputs": [
    {
     "data": {
      "text/plain": [
       "0.9361702127659575"
      ]
     },
     "execution_count": 22,
     "metadata": {},
     "output_type": "execute_result"
    }
   ],
   "source": [
    "summary.accuracy"
   ]
  },
  {
   "cell_type": "markdown",
   "id": "17b228bb",
   "metadata": {},
   "source": [
    "### Pipeline"
   ]
  },
  {
   "cell_type": "code",
   "execution_count": 29,
   "id": "0e150b5a",
   "metadata": {},
   "outputs": [
    {
     "name": "stdout",
     "output_type": "stream",
     "text": [
      "+---------------+-----------------+--------------------+----------+\n",
      "|        species|         features|         probability|prediction|\n",
      "+---------------+-----------------+--------------------+----------+\n",
      "|    Iris-setosa|[4.3,3.0,1.1,0.1]|       [1.0,0.0,0.0]|       0.0|\n",
      "|    Iris-setosa|[4.4,2.9,1.4,0.2]|       [1.0,0.0,0.0]|       0.0|\n",
      "|    Iris-setosa|[4.4,3.0,1.3,0.2]|       [1.0,0.0,0.0]|       0.0|\n",
      "|    Iris-setosa|[4.4,3.2,1.3,0.2]|       [1.0,0.0,0.0]|       0.0|\n",
      "|    Iris-setosa|[4.5,2.3,1.3,0.3]|[1.0,5.1584556500...|       0.0|\n",
      "|    Iris-setosa|[4.6,3.1,1.5,0.2]|       [1.0,0.0,0.0]|       0.0|\n",
      "|    Iris-setosa|[4.6,3.4,1.4,0.3]|       [1.0,0.0,0.0]|       0.0|\n",
      "|    Iris-setosa|[4.6,3.6,1.0,0.2]|       [1.0,0.0,0.0]|       0.0|\n",
      "|    Iris-setosa|[4.7,3.2,1.3,0.2]|       [1.0,0.0,0.0]|       0.0|\n",
      "|    Iris-setosa|[4.7,3.2,1.6,0.2]|       [1.0,0.0,0.0]|       0.0|\n",
      "|    Iris-setosa|[4.8,3.0,1.4,0.1]|       [1.0,0.0,0.0]|       0.0|\n",
      "|    Iris-setosa|[4.8,3.0,1.4,0.3]|       [1.0,0.0,0.0]|       0.0|\n",
      "|    Iris-setosa|[4.8,3.1,1.6,0.2]|       [1.0,0.0,0.0]|       0.0|\n",
      "|    Iris-setosa|[4.8,3.4,1.6,0.2]|       [1.0,0.0,0.0]|       0.0|\n",
      "|    Iris-setosa|[4.8,3.4,1.9,0.2]|       [1.0,0.0,0.0]|       0.0|\n",
      "|Iris-versicolor|[4.9,2.4,3.3,1.0]|       [0.0,1.0,0.0]|       1.0|\n",
      "| Iris-virginica|[4.9,2.5,4.5,1.7]|[0.0,2.0755096241...|       2.0|\n",
      "|    Iris-setosa|[4.9,3.0,1.4,0.2]|       [1.0,0.0,0.0]|       0.0|\n",
      "|    Iris-setosa|[4.9,3.1,1.5,0.1]|       [1.0,0.0,0.0]|       0.0|\n",
      "|    Iris-setosa|[4.9,3.1,1.5,0.1]|       [1.0,0.0,0.0]|       0.0|\n",
      "+---------------+-----------------+--------------------+----------+\n",
      "only showing top 20 rows\n",
      "\n"
     ]
    }
   ],
   "source": [
    "#Using Pipeline #import module\n",
    "from pyspark.ml import Pipeline\n",
    "\n",
    "df = spark.read.csv('./irisdata.csv', header=True, inferSchema=True)\n",
    "\n",
    "#feature transformers\n",
    "indexer = StringIndexer(inputCol='species', outputCol='speciesIndex')\n",
    "\n",
    "#Apply OneHotEncoder to Species column\n",
    "encoded = OneHotEncoder(inputCol=\"speciesIndex\", outputCol=\"species_vec\")\n",
    "\n",
    "#Merge multiple columns into a vector column\n",
    "assembler = VectorAssembler(\n",
    "    inputCols=[\"sepal_length\", \"sepal_width\", \"petal_length\", \"petal_widthCm\"], \n",
    "    outputCol=\"features\")\n",
    "\n",
    "#model\n",
    "lr = LogisticRegression(featuresCol='features', labelCol='speciesIndex')\n",
    "\n",
    "#Create pipeline and pass it to stages\n",
    "pipeline = Pipeline(stages=[ indexer, encoded,\n",
    "           assembler, lr\n",
    "])\n",
    "\n",
    "trainData, testData = df.randomSplit([0.7, 0.3])\n",
    "\n",
    "#Use .fit() and .transform() on the pipeline\n",
    "df_transformed = pipeline.fit(trainData).transform(trainData)\n",
    "\n",
    "df_transformed.select(\"species\", \"features\", \"probability\", \"prediction\").show()"
   ]
  },
  {
   "cell_type": "code",
   "execution_count": null,
   "id": "c0ccb35f",
   "metadata": {},
   "outputs": [],
   "source": []
  }
 ],
 "metadata": {
  "kernelspec": {
   "display_name": "Python 3 (ipykernel)",
   "language": "python",
   "name": "python3"
  },
  "language_info": {
   "codemirror_mode": {
    "name": "ipython",
    "version": 3
   },
   "file_extension": ".py",
   "mimetype": "text/x-python",
   "name": "python",
   "nbconvert_exporter": "python",
   "pygments_lexer": "ipython3",
   "version": "3.9.12"
  }
 },
 "nbformat": 4,
 "nbformat_minor": 5
}
